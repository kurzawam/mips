{
 "cells": [
  {
   "cell_type": "markdown",
   "metadata": {},
   "source": [
    "## Zadanie optymalizacyjne polegające na dobraniu odpowiedniej wartości natężenia prądu źródła prądowego dla podanych ograniczeń maksymalnej dopuszczalnej wartości prądu na rezystorach"
   ]
  },
  {
   "cell_type": "markdown",
   "metadata": {},
   "source": [
    "## Dołączanie potrzebnych bibliotek"
   ]
  },
  {
   "cell_type": "code",
   "execution_count": 1,
   "metadata": {},
   "outputs": [],
   "source": [
    "from __future__ import print_function\n",
    "from ipywidgets import interact, interactive, fixed, interact_manual, Layout, FloatSlider, IntSlider\n",
    "import ipywidgets as widgets\n",
    "import pulp\n",
    "import pandas as pd"
   ]
  },
  {
   "cell_type": "markdown",
   "metadata": {},
   "source": [
    "## Tworzenie suwaków dla  wartości rezystancji elementów i maksymalnej dopuszczalnej wartości   natężenia prądów dla tych elementów"
   ]
  },
  {
   "cell_type": "code",
   "execution_count": 2,
   "metadata": {},
   "outputs": [],
   "source": [
    "style = {'description_width': 'initial'}\n",
    "rezystancja_R1_slider = FloatSlider(min=0,max = 15, value= 8, description=\"Rezystancja R1\", style= style )\n",
    "rezystancja_R2_slider = FloatSlider(min=0,max = 15, value= 6, description=\"Rezystancja R2\", style= style )\n",
    "rezystancja_R4_slider = FloatSlider(min=0,max = 15, value= 10, description=\"Rezystancja R4\", style= style )\n",
    "rezystancja_R5_slider = FloatSlider(min=0,max = 15, value= 8, description=\"Rezystancja R5\", style= style )\n",
    "prad_R1_slider = FloatSlider(min=0,max = 5, value= 2, description=\"Prad R1\", style= style )\n",
    "prad_R2_slider = FloatSlider(min=0,max = 5, value= 3, description=\"Prad R2\", style= style )\n",
    "prad_R3_slider = FloatSlider(min=0,max = 5, value= 4, description=\"Prad R3\", style= style )\n",
    "prad_R4_slider = FloatSlider(min=0,max = 5, value= 2, description=\"Prad R4\", style= style )\n",
    "prad_R5_slider = FloatSlider(min=0,max = 5, value= 2, description=\"Prad R5\", style= style )"
   ]
  },
  {
   "cell_type": "markdown",
   "metadata": {},
   "source": [
    "## Definicja funkcji optymalizującej "
   ]
  },
  {
   "cell_type": "code",
   "execution_count": 3,
   "metadata": {},
   "outputs": [],
   "source": [
    "def rezystory_wartosci(\n",
    "    rezystancja_R1 = 8,\n",
    "    rezystancja_R2 = 6,\n",
    "    rezystancja_R4 = 10,\n",
    "    rezystancja_R5 = 8,\n",
    "    prad_R1 = 2,\n",
    "    prad_R2 = 3,\n",
    "    prad_R3 = 4,\n",
    "    prad_R4 = 2,\n",
    "    prad_R5 = 2):\n",
    "    problem_rezystory = pulp.LpProblem(\"Problem rezystory\", pulp.LpMaximize)\n",
    "\n",
    "    i1 = pulp.LpVariable('i1', lowBound=0, cat='Continuous')\n",
    "    i2 = pulp.LpVariable('i2', lowBound=0, cat='Continuous')\n",
    "    i3 = pulp.LpVariable('i3', lowBound=0, cat='Continuous')\n",
    "    i4 = pulp.LpVariable('i4', lowBound=0, cat='Continuous')\n",
    "    i5 = pulp.LpVariable('i5', lowBound=0, cat='Continuous')\n",
    "\n",
    "    problem_rezystory += i3\n",
    "\n",
    "    problem_rezystory += i1 <= prad_R1, \"Dopuszczalny prąd R1\"\n",
    "    problem_rezystory += i2 <= prad_R2, \"Dopuszczalny prąd R2\"\n",
    "    problem_rezystory += i3 <= prad_R3, \"Dopuszczalny prąd R3\"\n",
    "    problem_rezystory += i4 <= prad_R4, \"Dopuszczalny prąd R4\"\n",
    "    problem_rezystory += i5 <= prad_R5, \"Dopuszczalny prąd R5\"\n",
    "    problem_rezystory += i1 + i2 == i3\n",
    "    problem_rezystory += i3 == i4 + i5\n",
    "    problem_rezystory += i1 * rezystancja_R1 == i2 * rezystancja_R2\n",
    "    problem_rezystory += i4 * rezystancja_R4 == i5 * rezystancja_R5\n",
    "    \n",
    "    problem_rezystory.solve()\n",
    "    print(\"Status:\", pulp.LpStatus[problem_rezystory.status])\n",
    "    for variable in problem_rezystory.variables():\n",
    "        print(\"{} = {}\".format(variable.name, variable.varValue))\n",
    "    print(\"Prąd wyniesie {} A  \".format(pulp.value(problem_rezystory.objective)))\n",
    "    \n",
    "    shadows = [{'name':name, 'shadow price': c.pi, \"slack\": c.slack} for name, c in problem_rezystory.constraints.items()]\n",
    "    print(\"*\"*10+\"Shadow Prices\"+\"*\"*10)\n",
    "    print(pd.DataFrame(shadows))\n"
   ]
  },
  {
   "cell_type": "markdown",
   "metadata": {},
   "source": [
    "## Wyświetlanie suwaków i wywoływanie funkcji rezystory_wartosci "
   ]
  },
  {
   "cell_type": "code",
   "execution_count": 4,
   "metadata": {},
   "outputs": [
    {
     "name": "stdout",
     "output_type": "stream",
     "text": [
      "Status: Optimal\n",
      "i1 = 1.5428571\n",
      "i2 = 2.0571429\n",
      "i3 = 3.6\n",
      "i4 = 1.6\n",
      "i5 = 2.0\n",
      "Prąd wyniesie 3.6 A  \n",
      "**********Shadow Prices**********\n",
      "                   name  shadow price         slack\n",
      "0  Dopuszczalny_prąd_R1          -0.0  4.571429e-01\n",
      "1  Dopuszczalny_prąd_R2          -0.0  9.428571e-01\n",
      "2  Dopuszczalny_prąd_R3          -0.0  4.000000e-01\n",
      "3  Dopuszczalny_prąd_R4          -0.0  4.000000e-01\n",
      "4  Dopuszczalny_prąd_R5           1.8 -0.000000e+00\n",
      "5                   _C1           0.0 -4.440892e-16\n",
      "6                   _C2           1.0 -0.000000e+00\n",
      "7                   _C3          -0.0 -0.000000e+00\n",
      "8                   _C4           0.1 -0.000000e+00\n"
     ]
    }
   ],
   "source": [
    "interact(rezystory_wartosci, rezystancja_R1 = rezystancja_R1_slider,\n",
    "         rezystancja_R2 = rezystancja_R2_slider,\n",
    "         rezystancja_R4 = rezystancja_R4_slider,\n",
    "         rezystancja_R5 = rezystancja_R5_slider,\n",
    "         prad_R1 = prad_R1_slider,\n",
    "         prad_R2 = prad_R2_slider,\n",
    "         prad_R3 = prad_R3_slider,\n",
    "         prad_R4 = prad_R4_slider,\n",
    "         prad_R5 = prad_R5_slider\n",
    " );"
   ]
  }
 ],
 "metadata": {
  "kernelspec": {
   "display_name": "Python 3",
   "language": "python",
   "name": "python3"
  },
  "language_info": {
   "codemirror_mode": {
    "name": "ipython",
    "version": 3
   },
   "file_extension": ".py",
   "mimetype": "text/x-python",
   "name": "python",
   "nbconvert_exporter": "python",
   "pygments_lexer": "ipython3",
   "version": "3.7.5"
  }
 },
 "nbformat": 4,
 "nbformat_minor": 2
}
